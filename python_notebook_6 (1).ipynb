{
  "cells": [
    {
      "cell_type": "markdown",
      "metadata": {
        "id": "R0F70owduCG2"
      },
      "source": [
        "**Python Basics Sesion - 6: String formats and Lists**"
      ]
    },
    {
      "cell_type": "code",
      "execution_count": 48,
      "metadata": {
        "colab": {
          "base_uri": "https://localhost:8080/"
        },
        "id": "4rbYLRaP5fGq",
        "outputId": "88813ab3-080f-40f5-a2c6-4b56cdfd31be"
      },
      "outputs": [
        {
          "data": {
            "text/plain": [
              "5"
            ]
          },
          "execution_count": 48,
          "metadata": {},
          "output_type": "execute_result"
        }
      ],
      "source": [
        "# Bir stringin uzunluğu(karakter) sayısı\n",
        "text = \"madam\"\n",
        "len(text)"
      ]
    },
    {
      "cell_type": "code",
      "execution_count": 52,
      "metadata": {
        "colab": {
          "base_uri": "https://localhost:8080/"
        },
        "id": "vH--1DNCRJrf",
        "outputId": "2b2893a1-6307-43da-803d-12e3f91a05f5"
      },
      "outputs": [
        {
          "name": "stdout",
          "output_type": "stream",
          "text": [
            "['m', 'a', 'd', 'a', 'm', '5', '5']\n"
          ]
        }
      ],
      "source": [
        "## texti listeye dönüştürme\n",
        "text = \"madam55\"\n",
        "t_list = list(text)\n",
        "print(t_list)\n"
      ]
    },
    {
      "cell_type": "code",
      "execution_count": 53,
      "metadata": {
        "colab": {
          "base_uri": "https://localhost:8080/",
          "height": 184
        },
        "id": "bq52twNbRxUu",
        "outputId": "927b6778-d24f-43d7-9f9e-eac74bab06b1"
      },
      "outputs": [
        {
          "ename": "TypeError",
          "evalue": "ignored",
          "output_type": "error",
          "traceback": [
            "\u001b[0;31m---------------------------------------------------------------------------\u001b[0m",
            "\u001b[0;31mTypeError\u001b[0m                                 Traceback (most recent call last)",
            "\u001b[0;32m<ipython-input-53-317f2380cd54>\u001b[0m in \u001b[0;36m<module>\u001b[0;34m\u001b[0m\n\u001b[0;32m----> 1\u001b[0;31m \u001b[0mlist2\u001b[0m \u001b[0;34m=\u001b[0m\u001b[0mlist\u001b[0m\u001b[0;34m(\u001b[0m\u001b[0;36m55\u001b[0m\u001b[0;34m)\u001b[0m     \u001b[0;31m# iterable olmasını istiyor\u001b[0m\u001b[0;34m\u001b[0m\u001b[0;34m\u001b[0m\u001b[0m\n\u001b[0m\u001b[1;32m      2\u001b[0m \u001b[0mprint\u001b[0m\u001b[0;34m(\u001b[0m\u001b[0mlist2\u001b[0m\u001b[0;34m)\u001b[0m\u001b[0;34m\u001b[0m\u001b[0;34m\u001b[0m\u001b[0m\n",
            "\u001b[0;31mTypeError\u001b[0m: 'int' object is not iterable"
          ]
        }
      ],
      "source": [
        "list2 =list(55)     # iterable olmasını istiyor\n",
        "print(list2)"
      ]
    },
    {
      "cell_type": "code",
      "execution_count": 54,
      "metadata": {
        "colab": {
          "base_uri": "https://localhost:8080/",
          "height": 184
        },
        "id": "mzAh1UmhRzPy",
        "outputId": "ee88c249-cc61-454a-e4ae-9752cbee0089"
      },
      "outputs": [
        {
          "ename": "TypeError",
          "evalue": "ignored",
          "output_type": "error",
          "traceback": [
            "\u001b[0;31m---------------------------------------------------------------------------\u001b[0m",
            "\u001b[0;31mTypeError\u001b[0m                                 Traceback (most recent call last)",
            "\u001b[0;32m<ipython-input-54-aea86e3db952>\u001b[0m in \u001b[0;36m<module>\u001b[0;34m\u001b[0m\n\u001b[1;32m      1\u001b[0m \u001b[0msayi\u001b[0m \u001b[0;34m=\u001b[0m \u001b[0;36m555\u001b[0m\u001b[0;34m\u001b[0m\u001b[0;34m\u001b[0m\u001b[0m\n\u001b[0;32m----> 2\u001b[0;31m \u001b[0mprint\u001b[0m\u001b[0;34m(\u001b[0m\u001b[0mlist\u001b[0m\u001b[0;34m(\u001b[0m\u001b[0msayi\u001b[0m\u001b[0;34m)\u001b[0m\u001b[0;34m)\u001b[0m\u001b[0;34m\u001b[0m\u001b[0;34m\u001b[0m\u001b[0m\n\u001b[0m",
            "\u001b[0;31mTypeError\u001b[0m: 'int' object is not iterable"
          ]
        }
      ],
      "source": [
        "sayi = 555\n",
        "print(list(sayi))"
      ]
    },
    {
      "cell_type": "markdown",
      "metadata": {
        "id": "gMnMvhpd5luz"
      },
      "source": [
        "**Boş Liste Oluşturma**"
      ]
    },
    {
      "cell_type": "code",
      "execution_count": null,
      "metadata": {
        "id": "LiRAq-2-Kh2L"
      },
      "outputs": [],
      "source": [
        "## Boş liste\n",
        "list1 = []\n",
        "list2 = list()"
      ]
    },
    {
      "cell_type": "code",
      "execution_count": 55,
      "metadata": {
        "colab": {
          "base_uri": "https://localhost:8080/"
        },
        "id": "s8qluglqSEuj",
        "outputId": "9eae1bcd-25b3-4a41-b98b-8e6407c67204"
      },
      "outputs": [
        {
          "name": "stdout",
          "output_type": "stream",
          "text": [
            "['ali', 5, 6, 55, 'veli', True]\n"
          ]
        }
      ],
      "source": [
        "listem = [\"ali\", 5, 6, 55, \"veli\", True]\n",
        "print(listem)"
      ]
    },
    {
      "cell_type": "markdown",
      "metadata": {
        "id": "uxt3HZOx5tTa"
      },
      "source": [
        "**Bir stringi listeye dönüştürme**"
      ]
    },
    {
      "cell_type": "code",
      "execution_count": 59,
      "metadata": {
        "colab": {
          "base_uri": "https://localhost:8080/"
        },
        "id": "HJIfi3iOBds7",
        "outputId": "94d35bd1-eeb7-4847-908b-cd1cfcc391ca"
      },
      "outputs": [
        {
          "name": "stdout",
          "output_type": "stream",
          "text": [
            "['I', ' ', 'q', 'u', 'i', 't', 'e', ' ', 's', 'm', 'o', 'k', 'i', 'n', 'g']\n",
            "15\n"
          ]
        }
      ],
      "source": [
        "string_1 = \"I quite smoking\"\n",
        "new_list1 = list(string_1)  #çok bir elemanlı bir liste: karakter karakter alıyor\n",
        "print(new_list1)\n",
        "print(len(new_list1))"
      ]
    },
    {
      "cell_type": "code",
      "execution_count": 58,
      "metadata": {
        "colab": {
          "base_uri": "https://localhost:8080/"
        },
        "id": "LEbhaRKYSViX",
        "outputId": "61af4d26-dcff-4644-c056-e9a884585ee6"
      },
      "outputs": [
        {
          "name": "stdout",
          "output_type": "stream",
          "text": [
            "['I', 'quite', 'smoking']\n",
            "3\n"
          ]
        }
      ],
      "source": [
        "#split() ile listeye dönüştürme\n",
        "string_1 = \"I quite smoking\"\n",
        "new_list1 = string_1.split()  # boşluk karakterinden ayrıştırarark listeye dön.\n",
        "print(new_list1)\n",
        "print(len(new_list1))           #listenin elemanın sayısını verir"
      ]
    },
    {
      "cell_type": "code",
      "execution_count": 60,
      "metadata": {
        "colab": {
          "base_uri": "https://localhost:8080/"
        },
        "id": "ilzy9u_5SwV1",
        "outputId": "40fe711b-0dee-406f-d67e-a327c3132ed8"
      },
      "outputs": [
        {
          "name": "stdout",
          "output_type": "stream",
          "text": [
            "['I', 'quit', 'smok', 'ing']\n",
            "4\n"
          ]
        }
      ],
      "source": [
        "string_1 = \"Iequitesmokeing\"\n",
        "new_list1 = string_1.split(\"e\")  # e karakterinden ayrıştırarark listeye dön.\n",
        "print(new_list1)\n",
        "print(len(new_list1))  "
      ]
    },
    {
      "cell_type": "code",
      "execution_count": 62,
      "metadata": {
        "colab": {
          "base_uri": "https://localhost:8080/"
        },
        "id": "dOcu4A5p6CBC",
        "outputId": "038d49b5-c89a-4d7c-fb77-96bfcb048076"
      },
      "outputs": [
        {
          "name": "stdout",
          "output_type": "stream",
          "text": [
            "['I quite smoking']\n",
            "1\n"
          ]
        }
      ],
      "source": [
        "string_1 = \"I quite smoking\"\n",
        "new_list2 = [string_1]          # tek bir elemanlı bir liste\n",
        "print(new_list2)\n",
        "print(len(new_list2))"
      ]
    },
    {
      "cell_type": "code",
      "execution_count": 68,
      "metadata": {
        "colab": {
          "base_uri": "https://localhost:8080/"
        },
        "id": "geXVZAqUT5lf",
        "outputId": "524c8089-dbf6-47e6-8300-146d45a6320c"
      },
      "outputs": [
        {
          "name": "stdout",
          "output_type": "stream",
          "text": [
            "['ankara', 'berlin', 'tokyo', 'ottowa']\n",
            "4\n"
          ]
        }
      ],
      "source": [
        "listem = [\"ankara\", \"berlin\", \"tokyo\", \"ottowa\"] \n",
        "print(listem)\n",
        "print(len(listem))"
      ]
    },
    {
      "cell_type": "code",
      "execution_count": 71,
      "metadata": {
        "colab": {
          "base_uri": "https://localhost:8080/"
        },
        "id": "qxp1uYnIUE8u",
        "outputId": "1e6df8b4-48a8-4778-a5e9-6b30efa37e78"
      },
      "outputs": [
        {
          "name": "stdout",
          "output_type": "stream",
          "text": [
            "['ankara, berlin, tokyo, ottowa']\n",
            "1\n"
          ]
        }
      ],
      "source": [
        "text = \"ankara, berlin, tokyo, ottowa\" \n",
        "new_list = [text]\n",
        "print(new_list)\n",
        "print(len(new_list))"
      ]
    },
    {
      "cell_type": "code",
      "execution_count": 70,
      "metadata": {
        "colab": {
          "base_uri": "https://localhost:8080/"
        },
        "id": "5dOuQ-leUj9b",
        "outputId": "2bd7359f-941d-44c2-a866-9e7011ba8c5c"
      },
      "outputs": [
        {
          "name": "stdout",
          "output_type": "stream",
          "text": [
            "['ankara', ' berlin', ' tokyo', ' ottowa']\n",
            "4\n"
          ]
        }
      ],
      "source": [
        "text = \"ankara, berlin, tokyo, ottowa\" \n",
        "new_list = text.split(\",\")\n",
        "print(new_list)\n",
        "print(len(new_list))"
      ]
    },
    {
      "cell_type": "code",
      "execution_count": 72,
      "metadata": {
        "colab": {
          "base_uri": "https://localhost:8080/"
        },
        "id": "GAKWRLBRVXcz",
        "outputId": "ac93cffc-a7f8-4060-8a4a-64a9ca88e5b5"
      },
      "outputs": [
        {
          "name": "stdout",
          "output_type": "stream",
          "text": [
            "1\n"
          ]
        }
      ],
      "source": [
        "print(len([[12, 34, 56]]))"
      ]
    },
    {
      "cell_type": "code",
      "execution_count": 74,
      "metadata": {
        "colab": {
          "base_uri": "https://localhost:8080/"
        },
        "id": "3Gbl1JsoVh6A",
        "outputId": "e8b1c4a6-b879-4f4d-92b6-4b0fbb8c4896"
      },
      "outputs": [
        {
          "name": "stdout",
          "output_type": "stream",
          "text": [
            "[[12, 34, 56]]\n"
          ]
        }
      ],
      "source": [
        "print([[12, 34, 56]])"
      ]
    },
    {
      "cell_type": "code",
      "execution_count": 76,
      "metadata": {
        "colab": {
          "base_uri": "https://localhost:8080/"
        },
        "id": "hNMHEz0PVt3m",
        "outputId": "72ee9906-181f-4d9b-96a8-33eb1612c7b4"
      },
      "outputs": [
        {
          "name": "stdout",
          "output_type": "stream",
          "text": [
            "[12, 34, 56]\n"
          ]
        }
      ],
      "source": [
        "print([[12, 34, 56], [2,34,5], \"ayşe\"][0])"
      ]
    },
    {
      "cell_type": "code",
      "execution_count": 81,
      "metadata": {
        "colab": {
          "base_uri": "https://localhost:8080/"
        },
        "id": "IejhEPXDWTgb",
        "outputId": "53a5f275-c126-4619-e1ab-e4b9b4e89b69"
      },
      "outputs": [
        {
          "name": "stdout",
          "output_type": "stream",
          "text": [
            "3\n"
          ]
        }
      ],
      "source": [
        "print(len([[12, 34, 56], [2,34,5], \"ayşe\"][0]))"
      ]
    },
    {
      "cell_type": "code",
      "execution_count": 85,
      "metadata": {
        "colab": {
          "base_uri": "https://localhost:8080/",
          "height": 166
        },
        "id": "YUbjYVLaXAC5",
        "outputId": "f7aed0b9-f2fa-4ab7-8d00-4767006fcb30"
      },
      "outputs": [
        {
          "ename": "TypeError",
          "evalue": "ignored",
          "output_type": "error",
          "traceback": [
            "\u001b[0;31m---------------------------------------------------------------------------\u001b[0m",
            "\u001b[0;31mTypeError\u001b[0m                                 Traceback (most recent call last)",
            "\u001b[0;32m<ipython-input-85-91fed648bb37>\u001b[0m in \u001b[0;36m<module>\u001b[0;34m\u001b[0m\n\u001b[0;32m----> 1\u001b[0;31m \u001b[0mlen\u001b[0m\u001b[0;34m(\u001b[0m\u001b[0;36m5\u001b[0m\u001b[0;34m)\u001b[0m\u001b[0;34m\u001b[0m\u001b[0;34m\u001b[0m\u001b[0m\n\u001b[0m",
            "\u001b[0;31mTypeError\u001b[0m: object of type 'int' has no len()"
          ]
        }
      ],
      "source": [
        "len(5)"
      ]
    },
    {
      "cell_type": "code",
      "execution_count": 84,
      "metadata": {
        "colab": {
          "base_uri": "https://localhost:8080/"
        },
        "id": "spnYVqM-WlBq",
        "outputId": "093259b0-8fab-4d9a-d610-39c48cef4409"
      },
      "outputs": [
        {
          "name": "stdout",
          "output_type": "stream",
          "text": [
            "<class 'int'>\n"
          ]
        }
      ],
      "source": [
        "print(type([[12, 34, 56], [2,34,5], 5, [\"ayşe\", \"fatma\"]][2]))"
      ]
    },
    {
      "cell_type": "code",
      "execution_count": 77,
      "metadata": {
        "colab": {
          "base_uri": "https://localhost:8080/"
        },
        "id": "g-2MC0ICV54j",
        "outputId": "3de7a720-75ef-4945-f988-ce86d0727520"
      },
      "outputs": [
        {
          "name": "stdout",
          "output_type": "stream",
          "text": [
            "[2, 34, 5]\n"
          ]
        }
      ],
      "source": [
        "print([[12, 34, 56], [2,34,5]][1])"
      ]
    },
    {
      "cell_type": "code",
      "execution_count": 73,
      "metadata": {
        "colab": {
          "base_uri": "https://localhost:8080/"
        },
        "id": "UEpHz0xUVN8R",
        "outputId": "67288c6e-7b9d-48f4-c52f-e48ecd4d62ce"
      },
      "outputs": [
        {
          "name": "stdout",
          "output_type": "stream",
          "text": [
            "3\n"
          ]
        }
      ],
      "source": [
        "print(len([[12, 34, 56]][0]))"
      ]
    },
    {
      "cell_type": "code",
      "execution_count": 86,
      "metadata": {
        "colab": {
          "base_uri": "https://localhost:8080/"
        },
        "id": "cluQ6KuDYB_N",
        "outputId": "ce994064-2b2b-4341-eb90-492fc0652e37"
      },
      "outputs": [
        {
          "name": "stdout",
          "output_type": "stream",
          "text": [
            "7\n"
          ]
        }
      ],
      "source": [
        "mix_list = [5, \"alim\", 3.24, True, None, [2,3, 5], ['a', 4, \"abc\"]]\n",
        "# listenin eleman sayısı\n",
        "print(len(mix_list))"
      ]
    },
    {
      "cell_type": "code",
      "execution_count": 88,
      "metadata": {
        "colab": {
          "base_uri": "https://localhost:8080/"
        },
        "id": "Rq2CZK4KYZJ2",
        "outputId": "b2c50910-c714-4716-b40f-aa5a17722646"
      },
      "outputs": [
        {
          "name": "stdout",
          "output_type": "stream",
          "text": [
            "[2, 3, 5]\n",
            "<class 'list'>\n"
          ]
        }
      ],
      "source": [
        "mix_list = [5, \"alim\", 3.24, True, None, [2,3, 5], ['a', 4, \"abc\"]]\n",
        "# Bu listenin 5. indisli elemanı tipi nedir?\n",
        "print(mix_list[5])\n",
        "print(type(mix_list[5]))"
      ]
    },
    {
      "cell_type": "code",
      "execution_count": 89,
      "metadata": {
        "colab": {
          "base_uri": "https://localhost:8080/"
        },
        "id": "getybNs4Yubu",
        "outputId": "6e74cb51-58f0-4c64-9b8e-9c1b57765ea7"
      },
      "outputs": [
        {
          "name": "stdout",
          "output_type": "stream",
          "text": [
            "alim\n",
            "<class 'str'>\n"
          ]
        }
      ],
      "source": [
        "mix_list = [5, \"alim\", 3.24, True, None, [2,3, 5], ['a', 4, \"abc\"]]\n",
        "# Bu listenin 1. indisli elemanı tipi nedir?\n",
        "print(mix_list[1])\n",
        "print(type(mix_list[1]))"
      ]
    },
    {
      "cell_type": "code",
      "execution_count": 90,
      "metadata": {
        "colab": {
          "base_uri": "https://localhost:8080/"
        },
        "id": "y4LSQ1gxZbz2",
        "outputId": "5f6b5d5e-c4e1-496d-cc54-8efb4434b3ce"
      },
      "outputs": [
        {
          "name": "stdout",
          "output_type": "stream",
          "text": [
            "['Joseph', 'Clarusway', 2020]\n",
            "3\n",
            "[['Joseph', 'Clarusway', 2020]]\n",
            "1\n"
          ]
        }
      ],
      "source": [
        "my_list = ['Joseph', 'Clarusway', 2020]\n",
        "new_list1 = list(my_list)   # what will be the output? \n",
        "# list() veri yapısına dönüştürür\n",
        "new_list2 = [my_list]       # what will be the output? \n",
        "#liste içerisine başka bir liste yerleştiriliyor\n",
        "print(new_list1)\n",
        "print(len(new_list1))       # what is the length of the variable?\n",
        "\n",
        "print(new_list2)\n",
        "print(len(new_list2))"
      ]
    },
    {
      "cell_type": "code",
      "execution_count": 94,
      "metadata": {
        "colab": {
          "base_uri": "https://localhost:8080/"
        },
        "id": "cYPd_f4zaA80",
        "outputId": "c08ca09b-b4dc-4ef3-ba40-32e5b7656b3f"
      },
      "outputs": [
        {
          "name": "stdout",
          "output_type": "stream",
          "text": [
            "['J', 'o', 's', 'e', 'p', 'h']\n"
          ]
        }
      ],
      "source": [
        "my_list = ['Joseph', 'Clarusway', 2020]\n",
        "yeni_list = list(my_list[0])\n",
        "print(yeni_list)"
      ]
    },
    {
      "cell_type": "code",
      "execution_count": 95,
      "metadata": {
        "colab": {
          "base_uri": "https://localhost:8080/"
        },
        "id": "AQ2p4ETgdbx0",
        "outputId": "b43d25bd-0bfe-4c65-b388-251a211cc956"
      },
      "outputs": [
        {
          "name": "stdout",
          "output_type": "stream",
          "text": [
            "['2', '0', '2', '0', \"'\", 's', ' ', 'h', 'a', 'r', 'd']\n",
            "[\"2020's hard\"]\n"
          ]
        }
      ],
      "source": [
        "Text = \"2020's hard\"\n",
        "list1 = list(Text)\n",
        "list2 = [Text]\n",
        "print(list1)\n",
        "print(list2)"
      ]
    },
    {
      "cell_type": "code",
      "execution_count": 96,
      "metadata": {
        "colab": {
          "base_uri": "https://localhost:8080/"
        },
        "id": "feh89wVHesvG",
        "outputId": "84c4947d-b7b6-468c-8476-44d84251d8a3"
      },
      "outputs": [
        {
          "name": "stdout",
          "output_type": "stream",
          "text": [
            "['p', 'i', 't', 'h', 'o', 'n']\n"
          ]
        }
      ],
      "source": [
        "## Listeler mutable\n",
        "my_list = [\"p\", \"y\", \"t\", \"h\", \"o\", \"n\"]\n",
        "## 'y' karakterini 'i' olarak değiştirmek istiyorum\n",
        "my_list[1] = \"i\"\n",
        "print(my_list)"
      ]
    },
    {
      "cell_type": "code",
      "execution_count": 102,
      "metadata": {
        "colab": {
          "base_uri": "https://localhost:8080/"
        },
        "id": "bBNEbFLIfG_j",
        "outputId": "98935698-58c4-47b1-c11f-dcab66d32c48"
      },
      "outputs": [
        {
          "name": "stdout",
          "output_type": "stream",
          "text": [
            "['p', 'i', 't', 'h', 'o', 'n']\n",
            "['p', 'i', 't', 'h', 'o', 'n']\n"
          ]
        }
      ],
      "source": [
        "text = \"python\" \n",
        "## 'y' karakterini 'i' olarak değiştirmek istiyorum\n",
        "my_list = list(text)\n",
        "my_list[1] = \"i\"\n",
        "print(my_list)\n",
        "#listeden stringe dönüştürelim... : dönüştürmedi???\n",
        "text = str(my_list)\n",
        "print(text)"
      ]
    },
    {
      "cell_type": "code",
      "execution_count": 104,
      "metadata": {
        "colab": {
          "base_uri": "https://localhost:8080/"
        },
        "id": "g9rNAoYOf2fb",
        "outputId": "a4453d42-e8fe-4d12-8166-fd0081c6eda9"
      },
      "outputs": [
        {
          "name": "stdout",
          "output_type": "stream",
          "text": [
            "['p', 'i', 't', 'h', 'o', 'n']\n",
            "pithon\n",
            "<class 'str'>\n"
          ]
        }
      ],
      "source": [
        "text = \"python\" \n",
        "## 'y' karakterini 'i' olarak değiştirmek istiyorum\n",
        "my_list = list(text)\n",
        "my_list[1] = \"i\"\n",
        "print(my_list)\n",
        "#listeden stringe dönüştürelim...\n",
        "text = \"\".join(my_list)\n",
        "print(text)\n",
        "print(type(text))"
      ]
    },
    {
      "cell_type": "code",
      "execution_count": 108,
      "metadata": {
        "colab": {
          "base_uri": "https://localhost:8080/"
        },
        "id": "Z5zOXXLBgULL",
        "outputId": "56468093-22ac-4727-cb24-b8d2854a5cfe"
      },
      "outputs": [
        {
          "name": "stdout",
          "output_type": "stream",
          "text": [
            "Help on built-in function join:\n",
            "\n",
            "join(iterable, /) method of builtins.str instance\n",
            "    Concatenate any number of strings.\n",
            "    \n",
            "    The string whose method is called is inserted in between each given string.\n",
            "    The result is returned as a new string.\n",
            "    \n",
            "    Example: '.'.join(['ab', 'pq', 'rs']) -> 'ab.pq.rs'\n",
            "\n"
          ]
        }
      ],
      "source": [
        "help(\"\".join)"
      ]
    },
    {
      "cell_type": "code",
      "execution_count": 109,
      "metadata": {
        "colab": {
          "base_uri": "https://localhost:8080/"
        },
        "id": "xda4UBZWLDk_",
        "outputId": "3e20397d-efcd-48a7-fc7d-5e29d166e24c"
      },
      "outputs": [
        {
          "data": {
            "text/plain": [
              "[1, 4, 7, 9]"
            ]
          },
          "execution_count": 109,
          "metadata": {},
          "output_type": "execute_result"
        }
      ],
      "source": [
        "## append(): mevcut bir liste sonuna item ekleme\n",
        "my_list = [1,4,7]\n",
        "my_list.append(9)\n",
        "my_list"
      ]
    },
    {
      "cell_type": "code",
      "execution_count": 110,
      "metadata": {
        "colab": {
          "base_uri": "https://localhost:8080/"
        },
        "id": "ufb1lINPg7rA",
        "outputId": "924ec5b5-301c-4bd0-a506-459030e55664"
      },
      "outputs": [
        {
          "data": {
            "text/plain": [
              "[1, 4, 7, 9, '99']"
            ]
          },
          "execution_count": 110,
          "metadata": {},
          "output_type": "execute_result"
        }
      ],
      "source": [
        "my_list.append(\"99\")\n",
        "my_list"
      ]
    },
    {
      "cell_type": "code",
      "execution_count": 111,
      "metadata": {
        "colab": {
          "base_uri": "https://localhost:8080/"
        },
        "id": "xLiuWt0biJ7L",
        "outputId": "48465bf8-5a47-483c-ec8d-4ed3115a5121"
      },
      "outputs": [
        {
          "name": "stdout",
          "output_type": "stream",
          "text": [
            "[6666, 'Multiverse', [0]]\n"
          ]
        }
      ],
      "source": [
        "bos_listem = []\n",
        "bos_listem.append(6666)\n",
        "bos_listem.append(\"Multiverse\")\n",
        "bos_listem.append([0])\n",
        "\n",
        "print(bos_listem)"
      ]
    },
    {
      "cell_type": "code",
      "execution_count": 113,
      "metadata": {
        "colab": {
          "base_uri": "https://localhost:8080/"
        },
        "id": "alXBEKEUjem0",
        "outputId": "5b5894e8-7b72-41bd-ac89-4d7a643df92d"
      },
      "outputs": [
        {
          "name": "stdout",
          "output_type": "stream",
          "text": [
            "['False', 'None', 'True', 'and', 'as', 'assert', 'async', 'await', 'break', 'class', 'continue', 'def', 'del', 'elif', 'else', 'except', 'finally', 'for', 'from', 'global', 'if', 'import', 'in', 'is', 'lambda', 'nonlocal', 'not', 'or', 'pass', 'raise', 'return', 'try', 'while', 'with', 'yield']\n"
          ]
        }
      ],
      "source": [
        "import keyword\n",
        "print(keyword.kwlist)"
      ]
    },
    {
      "cell_type": "code",
      "execution_count": 114,
      "metadata": {
        "colab": {
          "base_uri": "https://localhost:8080/"
        },
        "id": "CMZiEicgja_c",
        "outputId": "962bdff8-6b83-4d71-a4f7-9c8a9a730a68"
      },
      "outputs": [
        {
          "name": "stdout",
          "output_type": "stream",
          "text": [
            "[1, 2, 3, 4]\n"
          ]
        }
      ],
      "source": [
        "mylist = []\n",
        "mylist.append(1)\n",
        "mylist.append(2)\n",
        "mylist.append(3)\n",
        "mylist.append(4)\n",
        "print(mylist)\n"
      ]
    },
    {
      "cell_type": "code",
      "execution_count": 118,
      "metadata": {
        "colab": {
          "base_uri": "https://localhost:8080/"
        },
        "id": "As3ZJqXkkH3P",
        "outputId": "ff8a5e56-e974-4b71-823f-5ed2086e5c06"
      },
      "outputs": [
        {
          "name": "stdout",
          "output_type": "stream",
          "text": [
            "[1, 2, 3, 4]\n",
            "[1, 2, 3, 4, 5, 6, 7, 8]\n"
          ]
        }
      ],
      "source": [
        "mylist = []\n",
        "mylist.append(1)\n",
        "mylist.append(2)\n",
        "mylist.append(3)\n",
        "mylist.append(4)\n",
        "print(mylist)\n",
        "mylist2 = [5,6,7,8]\n",
        "mylist.extend(mylist2) #listeyi genişletiyor...\n",
        "print(mylist)"
      ]
    },
    {
      "cell_type": "code",
      "execution_count": 115,
      "metadata": {
        "colab": {
          "base_uri": "https://localhost:8080/"
        },
        "id": "UM00H6Rcjszy",
        "outputId": "44d67667-3d0b-4345-a46c-f0588db24b1a"
      },
      "outputs": [
        {
          "name": "stdout",
          "output_type": "stream",
          "text": [
            "[1, 2, 3, 4, [5, 6, 7, 8]]\n"
          ]
        }
      ],
      "source": [
        "mylist2 = [5,6,7,8]\n",
        "mylist.append(mylist2)\n",
        "print(mylist)"
      ]
    },
    {
      "cell_type": "code",
      "execution_count": null,
      "metadata": {
        "id": "Kefzex6GRCD2"
      },
      "outputs": [],
      "source": [
        "# extend(mylist2) : listeye başka bir listeyi ekleme (listeyi uzatma)\n"
      ]
    },
    {
      "cell_type": "code",
      "execution_count": 117,
      "metadata": {
        "colab": {
          "base_uri": "https://localhost:8080/"
        },
        "id": "o4eam-2Kj5kl",
        "outputId": "654c0599-a41a-4ff7-d8fb-b9e830d1fe09"
      },
      "outputs": [
        {
          "name": "stdout",
          "output_type": "stream",
          "text": [
            "[1, 2, 3, 4, [5, 6, 7, 8], 5, 6, 7, 8]\n"
          ]
        }
      ],
      "source": [
        "mylist2 = [5,6,7,8]\n",
        "mylist.extend(mylist2)\n",
        "print(mylist)"
      ]
    },
    {
      "cell_type": "markdown",
      "metadata": {
        "id": "B-SuIQJvo1G_"
      },
      "source": [
        "# **Listeler üzerinde işlem yapan metotlar:**"
      ]
    },
    {
      "cell_type": "markdown",
      "metadata": {
        "id": "TyMaZdd-lF5u"
      },
      "source": [
        "list.**append(x)**\n",
        "Add an item to the end of the list. Equivalent to a[len(a):] = [x].\n",
        "\n",
        "list.**extend(iterable)**\n",
        "Extend the list by appending all the items from the iterable. Equivalent to a[len(a):] = iterable.\n",
        "\n",
        "list.**insert(i, x)**\n",
        "Insert an item at a given position. The first argument is the index of the element before which to insert, so a.insert(0, x) inserts at the front of the list, and a.insert(len(a), x) is equivalent to a.append(x).\n",
        "\n",
        "list.**remove(x)**\n",
        "Remove the first item from the list whose value is equal to x. It raises a ValueError if there is no such item.\n",
        "\n",
        "list.**pop([i])**\n",
        "Remove the item at the given position in the list, and return it. If no index is specified, a.pop() removes and returns the last item in the list. (The square brackets around the i in the method signature denote that the parameter is optional, not that you should type square brackets at that position. You will see this notation frequently in the Python Library Reference.)\n",
        "\n",
        "list.**clear()**\n",
        "Remove all items from the list. Equivalent to del a[:].\n",
        "\n",
        "list.**index**(x[, start[, end]])\n",
        "Return zero-based index in the list of the first item whose value is equal to x. Raises a ValueError if there is no such item.\n",
        "\n",
        "The optional arguments start and end are interpreted as in the slice notation and are used to limit the search to a particular subsequence of the list. The returned index is computed relative to the beginning of the full sequence rather than the start argument.\n",
        "\n",
        "list.**count**(x)\n",
        "Return the number of times x appears in the list.\n",
        "\n",
        "list.**sort**(*, key=None, **reverse**=False)\n",
        "Sort the items of the list in place (the arguments can be used for sort customization, see sorted() for their explanation).\n",
        "\n",
        "list.**reverse()**\n",
        "Reverse the elements of the list in place.\n",
        "\n",
        "list.**copy()**\n",
        "Return a shallow copy of the list. Equivalent to a[:]."
      ]
    },
    {
      "cell_type": "code",
      "execution_count": 119,
      "metadata": {
        "colab": {
          "base_uri": "https://localhost:8080/"
        },
        "id": "vyHZWCR7Ootr",
        "outputId": "d69ac1d6-99df-44ee-f4ab-b4f59eaebdd0"
      },
      "outputs": [
        {
          "name": "stdout",
          "output_type": "stream",
          "text": [
            "[1, 4, 9, 7]\n",
            "[1, 4, 6, 9, 7]\n"
          ]
        }
      ],
      "source": [
        "## insert(): Araya (indis numarasının gösterdiği yere) item ekleme\n",
        "numbers = [1, 4, 7]\n",
        "numbers.insert(2, 9)  # 2.indili elemanı 9 yap, sonrası sağa öteler\n",
        "print(numbers)\n",
        "numbers.insert(2, 6)\n",
        "print(numbers)\n"
      ]
    },
    {
      "cell_type": "code",
      "execution_count": 120,
      "metadata": {
        "colab": {
          "base_uri": "https://localhost:8080/"
        },
        "id": "4EMh-vuXPAzk",
        "outputId": "2a069b45-0897-4520-b6d6-60ebbecb93ed"
      },
      "outputs": [
        {
          "name": "stdout",
          "output_type": "stream",
          "text": [
            "['London', 'Berlin', 'Stockholm', 'Tokyo', 'Ankara', 'Ottowa']\n"
          ]
        }
      ],
      "source": [
        "city = [\"London\", \"Berlin\", \"Tokyo\", \"Ankara\", \"Ottowa\"]\n",
        "city.insert(2, \"Stockholm\")\n",
        "print(city)"
      ]
    },
    {
      "cell_type": "code",
      "execution_count": 121,
      "metadata": {
        "colab": {
          "base_uri": "https://localhost:8080/"
        },
        "id": "qc8L6jWHl9cG",
        "outputId": "54263ac3-8ea2-478d-a997-edc38735f4d9"
      },
      "outputs": [
        {
          "name": "stdout",
          "output_type": "stream",
          "text": [
            "[1, 2, 3, 4, 5]\n"
          ]
        }
      ],
      "source": [
        "#liste sonuna bir elemanı insert etme\n",
        "liste = [1,2,3,4]   \n",
        "liste.insert(4,5)\n",
        "print(liste)"
      ]
    },
    {
      "cell_type": "markdown",
      "metadata": {
        "id": "lk2gV1enSOip"
      },
      "source": [
        "Listeden eleman silme metotlar: remove(), pop(), clear(), del"
      ]
    },
    {
      "cell_type": "code",
      "execution_count": 122,
      "metadata": {
        "colab": {
          "base_uri": "https://localhost:8080/"
        },
        "id": "82rOC5_hmmxX",
        "outputId": "582f20e6-2842-42a6-a94a-bdacd867b823"
      },
      "outputs": [
        {
          "name": "stdout",
          "output_type": "stream",
          "text": [
            "[1, 4, 9]\n"
          ]
        }
      ],
      "source": [
        "numbers = [1, 4, 7, 9]\n",
        "numbers.remove(7)  #mevcut liste üzerinde silme yaptı\n",
        "print(numbers)"
      ]
    },
    {
      "cell_type": "code",
      "execution_count": 123,
      "metadata": {
        "colab": {
          "base_uri": "https://localhost:8080/"
        },
        "id": "UZQ4RIH6m15R",
        "outputId": "e48426a2-2d32-4717-c9db-796ff76f9078"
      },
      "outputs": [
        {
          "name": "stdout",
          "output_type": "stream",
          "text": [
            "[1, 4, 9, 7]\n"
          ]
        }
      ],
      "source": [
        "numbers = [1, 4, 7, 9, 7]\n",
        "numbers.remove(7)  #ilk eşleştiği elemanı sildi\n",
        "print(numbers)"
      ]
    },
    {
      "cell_type": "code",
      "execution_count": 124,
      "metadata": {
        "colab": {
          "base_uri": "https://localhost:8080/"
        },
        "id": "SI0EGcSnpkUG",
        "outputId": "67ad8e82-5b72-4a6d-8da5-a5dd90662947"
      },
      "outputs": [
        {
          "name": "stdout",
          "output_type": "stream",
          "text": [
            "['London', 'Berlin', 'Ankara', 'Ottowa']\n"
          ]
        }
      ],
      "source": [
        "city = [\"London\", \"Berlin\", \"Tokyo\", \"Ankara\", \"Ottowa\"]\n",
        "city.remove(\"Tokyo\")\n",
        "print(city)"
      ]
    },
    {
      "cell_type": "code",
      "execution_count": 125,
      "metadata": {
        "colab": {
          "base_uri": "https://localhost:8080/"
        },
        "id": "EP0wVqARpr3X",
        "outputId": "0ae8d17f-b527-4960-8180-7d02a6d057f5"
      },
      "outputs": [
        {
          "name": "stdout",
          "output_type": "stream",
          "text": [
            "['London', 'Berlin', 'Ankara', 'Ottowa']\n"
          ]
        }
      ],
      "source": [
        "city = [\"London\", \"Berlin\", \"Tokyo\", \"Ankara\", \"Ottowa\"]\n",
        "city.pop(-3) \n",
        "## hiçbir indis numarası belirtilmez ise en sondakini siler\n",
        "print(city)"
      ]
    },
    {
      "cell_type": "code",
      "execution_count": 126,
      "metadata": {
        "colab": {
          "base_uri": "https://localhost:8080/"
        },
        "id": "F80GDy1MqEpH",
        "outputId": "1c8f2e78-cb41-4e6f-8ffa-4d42b0fe7d8f"
      },
      "outputs": [
        {
          "name": "stdout",
          "output_type": "stream",
          "text": [
            "[]\n"
          ]
        }
      ],
      "source": [
        "#listenin tamamını silmek için:\n",
        "city = [\"London\", \"Berlin\", \"Tokyo\", \"Ankara\", \"Ottowa\"]\n",
        "city.clear()\n",
        "print(city)"
      ]
    },
    {
      "cell_type": "markdown",
      "metadata": {
        "id": "qvzqyrtgUPr_"
      },
      "source": [
        "Liste Elemanlarını Sıralama :sort(), sorted()"
      ]
    },
    {
      "cell_type": "code",
      "execution_count": 127,
      "metadata": {
        "colab": {
          "base_uri": "https://localhost:8080/"
        },
        "id": "LP8z1NbUqjhS",
        "outputId": "099ddfee-b1bf-48f8-8bed-50177b39bd20"
      },
      "outputs": [
        {
          "name": "stdout",
          "output_type": "stream",
          "text": [
            "[1, 4, 7, 9]\n"
          ]
        }
      ],
      "source": [
        "numbers = [4, 1, 9, 7]\n",
        "numbers.sort()\n",
        "print(numbers)\n"
      ]
    },
    {
      "cell_type": "code",
      "execution_count": 128,
      "metadata": {
        "colab": {
          "base_uri": "https://localhost:8080/"
        },
        "id": "hi0-d2s5XM8a",
        "outputId": "45e3a66c-f5f8-4fab-b3f3-db933790022a"
      },
      "outputs": [
        {
          "name": "stdout",
          "output_type": "stream",
          "text": [
            "[9, 7, 4, 1]\n"
          ]
        }
      ],
      "source": [
        "numbers = [4, 1, 9, 7]\n",
        "numbers.sort(reverse=True)  ##büyükten küçüğe sıralar\n",
        "print(numbers)"
      ]
    },
    {
      "cell_type": "markdown",
      "metadata": {
        "id": "guhAHDIxd0gi"
      },
      "source": [
        "Listeyi ters çevirme işlemi: reverse()"
      ]
    },
    {
      "cell_type": "code",
      "execution_count": 129,
      "metadata": {
        "colab": {
          "base_uri": "https://localhost:8080/"
        },
        "id": "amxWjelTq42u",
        "outputId": "18f572c1-697f-4399-8a80-f404aa8eedba"
      },
      "outputs": [
        {
          "name": "stdout",
          "output_type": "stream",
          "text": [
            "[9, 7, 4, 1]\n"
          ]
        }
      ],
      "source": [
        "numbers = [4, 1, 9, 7]\n",
        "numbers.sort()      #önce küçükten büyüğe sırala\n",
        "numbers.reverse()   #sonra ters çevir\n",
        "print(numbers)"
      ]
    },
    {
      "cell_type": "code",
      "execution_count": 130,
      "metadata": {
        "colab": {
          "base_uri": "https://localhost:8080/",
          "height": 201
        },
        "id": "2oLK3ypRrHpu",
        "outputId": "71a5f168-5b59-4a00-b7eb-74db95419e18"
      },
      "outputs": [
        {
          "ename": "AttributeError",
          "evalue": "ignored",
          "output_type": "error",
          "traceback": [
            "\u001b[0;31m---------------------------------------------------------------------------\u001b[0m",
            "\u001b[0;31mAttributeError\u001b[0m                            Traceback (most recent call last)",
            "\u001b[0;32m<ipython-input-130-e1fc35a5fee4>\u001b[0m in \u001b[0;36m<module>\u001b[0;34m\u001b[0m\n\u001b[1;32m      1\u001b[0m \u001b[0mnumbers\u001b[0m \u001b[0;34m=\u001b[0m \u001b[0;34m[\u001b[0m\u001b[0;36m4\u001b[0m\u001b[0;34m,\u001b[0m \u001b[0;36m1\u001b[0m\u001b[0;34m,\u001b[0m \u001b[0;36m9\u001b[0m\u001b[0;34m,\u001b[0m \u001b[0;36m7\u001b[0m\u001b[0;34m]\u001b[0m\u001b[0;34m\u001b[0m\u001b[0;34m\u001b[0m\u001b[0m\n\u001b[0;32m----> 2\u001b[0;31m \u001b[0mnumbers\u001b[0m\u001b[0;34m.\u001b[0m\u001b[0msort\u001b[0m\u001b[0;34m(\u001b[0m\u001b[0;34m)\u001b[0m\u001b[0;34m.\u001b[0m\u001b[0mreverse\u001b[0m\u001b[0;34m(\u001b[0m\u001b[0;34m)\u001b[0m   \u001b[0;31m#sonra ters çevir\u001b[0m\u001b[0;34m\u001b[0m\u001b[0;34m\u001b[0m\u001b[0m\n\u001b[0m\u001b[1;32m      3\u001b[0m \u001b[0mprint\u001b[0m\u001b[0;34m(\u001b[0m\u001b[0mnumbers\u001b[0m\u001b[0;34m)\u001b[0m\u001b[0;34m\u001b[0m\u001b[0;34m\u001b[0m\u001b[0m\n",
            "\u001b[0;31mAttributeError\u001b[0m: 'NoneType' object has no attribute 'reverse'"
          ]
        }
      ],
      "source": [
        "numbers = [4, 1, 9, 7]\n",
        "numbers.sort().reverse()   #sonra ters çevir\n",
        "print(numbers)"
      ]
    },
    {
      "cell_type": "code",
      "execution_count": 136,
      "metadata": {
        "colab": {
          "base_uri": "https://localhost:8080/"
        },
        "id": "EtKB1ivmsn1f",
        "outputId": "b9a13764-f1ac-4ea6-c30a-b5c2d14eb0fe"
      },
      "outputs": [
        {
          "name": "stdout",
          "output_type": "stream",
          "text": [
            "<class 'NoneType'>\n"
          ]
        }
      ],
      "source": [
        "x = None\n",
        "print(type(x))"
      ]
    },
    {
      "cell_type": "code",
      "execution_count": 137,
      "metadata": {
        "colab": {
          "base_uri": "https://localhost:8080/"
        },
        "id": "O5cNZE5Dswec",
        "outputId": "871b53b5-2107-4237-c362-be5ed9ff48f3"
      },
      "outputs": [
        {
          "name": "stdout",
          "output_type": "stream",
          "text": [
            "<class 'NoneType'>\n"
          ]
        }
      ],
      "source": [
        "numbers = [4, 1, 9, 7]\n",
        "print(type(numbers.sort()))"
      ]
    },
    {
      "cell_type": "code",
      "execution_count": 139,
      "metadata": {
        "colab": {
          "base_uri": "https://localhost:8080/"
        },
        "id": "3swKcJn3s-en",
        "outputId": "48fd63e9-c127-4dfe-ace4-453a8026c562"
      },
      "outputs": [
        {
          "name": "stdout",
          "output_type": "stream",
          "text": [
            "<class 'list'>\n",
            "[4, 1, 9, 7]\n",
            "<class 'NoneType'>\n"
          ]
        }
      ],
      "source": [
        "numbers = [4, 1, 9, 7]\n",
        "print(type(numbers))\n",
        "print(type(print(numbers)))"
      ]
    },
    {
      "cell_type": "code",
      "execution_count": 140,
      "metadata": {
        "colab": {
          "base_uri": "https://localhost:8080/"
        },
        "id": "De8zMpRurS3f",
        "outputId": "04529e6f-6fd8-4cf3-f2a5-6cbea29b649e"
      },
      "outputs": [
        {
          "name": "stdout",
          "output_type": "stream",
          "text": [
            "[1, 4, 7, 9]\n",
            "[4, 1, 9, 7]\n",
            "<class 'list'>\n"
          ]
        }
      ],
      "source": [
        "numbers = [4, 1, 9, 7]\n",
        "n_list = sorted(numbers)  #yeni bir liste oluşturmanı istiyor.\n",
        "print(n_list)\n",
        "print(numbers)\n",
        "print(type(n_list))"
      ]
    },
    {
      "cell_type": "code",
      "execution_count": 141,
      "metadata": {
        "colab": {
          "base_uri": "https://localhost:8080/",
          "height": 201
        },
        "id": "9ogwAR3pt5II",
        "outputId": "a141ba16-17e7-40ce-9d31-a91518cbfcc7"
      },
      "outputs": [
        {
          "ename": "TypeError",
          "evalue": "ignored",
          "output_type": "error",
          "traceback": [
            "\u001b[0;31m---------------------------------------------------------------------------\u001b[0m",
            "\u001b[0;31mTypeError\u001b[0m                                 Traceback (most recent call last)",
            "\u001b[0;32m<ipython-input-141-ad44188425eb>\u001b[0m in \u001b[0;36m<module>\u001b[0;34m\u001b[0m\n\u001b[1;32m      1\u001b[0m \u001b[0mmix_list\u001b[0m \u001b[0;34m=\u001b[0m \u001b[0;34m[\u001b[0m\u001b[0;34m'd'\u001b[0m\u001b[0;34m,\u001b[0m \u001b[0;36m1\u001b[0m\u001b[0;34m,\u001b[0m \u001b[0;34m'a'\u001b[0m\u001b[0;34m,\u001b[0m \u001b[0;36m7\u001b[0m\u001b[0;34m]\u001b[0m\u001b[0;34m\u001b[0m\u001b[0;34m\u001b[0m\u001b[0m\n\u001b[0;32m----> 2\u001b[0;31m \u001b[0mmix_list\u001b[0m\u001b[0;34m.\u001b[0m\u001b[0msort\u001b[0m\u001b[0;34m(\u001b[0m\u001b[0;34m)\u001b[0m\u001b[0;34m\u001b[0m\u001b[0;34m\u001b[0m\u001b[0m\n\u001b[0m\u001b[1;32m      3\u001b[0m \u001b[0mprint\u001b[0m\u001b[0;34m(\u001b[0m\u001b[0mmix_list\u001b[0m\u001b[0;34m)\u001b[0m\u001b[0;34m\u001b[0m\u001b[0;34m\u001b[0m\u001b[0m\n",
            "\u001b[0;31mTypeError\u001b[0m: '<' not supported between instances of 'int' and 'str'"
          ]
        }
      ],
      "source": [
        "mix_list = ['d', 1, 'a', 7]\n",
        "mix_list.sort()         #aynı tip elemanları sıralar\n",
        "print(mix_list)"
      ]
    },
    {
      "cell_type": "code",
      "execution_count": 143,
      "metadata": {
        "colab": {
          "base_uri": "https://localhost:8080/"
        },
        "id": "3nDM1r7huBWR",
        "outputId": "dfe6554a-e13b-4742-ecda-ab6329f1a0f7"
      },
      "outputs": [
        {
          "name": "stdout",
          "output_type": "stream",
          "text": [
            "['1', '7', 'a', 'd', 'é']\n"
          ]
        }
      ],
      "source": [
        "mix_list = ['é','d', '1', 'a', '7']\n",
        "mix_list.sort()         #aynı tip elemanları sıralar, ASCII kod tablo sırasına göre\n",
        "print(mix_list)"
      ]
    },
    {
      "cell_type": "code",
      "execution_count": 148,
      "metadata": {
        "colab": {
          "base_uri": "https://localhost:8080/"
        },
        "id": "9gffPMP4uu-o",
        "outputId": "6eb2ee11-a2db-4ebb-f3a2-5905e3d948c9"
      },
      "outputs": [
        {
          "name": "stdout",
          "output_type": "stream",
          "text": [
            "['Nine', 'aba', 'four', 'one']\n"
          ]
        }
      ],
      "source": [
        "list_1 = ['one', 'four', 'Nine', 'aba']\n",
        "list_1.sort()\n",
        "print(list_1)\n",
        "\n"
      ]
    },
    {
      "cell_type": "code",
      "execution_count": 150,
      "metadata": {
        "colab": {
          "base_uri": "https://localhost:8080/"
        },
        "id": "SM3Qn-oku5yQ",
        "outputId": "7cfcf3b8-5a9b-4759-c2f7-e28e249348d6"
      },
      "outputs": [
        {
          "name": "stdout",
          "output_type": "stream",
          "text": [
            "[False, True, True, True]\n"
          ]
        }
      ],
      "source": [
        "list_3 = [True, False, bool(\"a\"), bool(5)]\n",
        "list_3.sort()\n",
        "print(list_3)"
      ]
    },
    {
      "cell_type": "code",
      "execution_count": 151,
      "metadata": {
        "colab": {
          "base_uri": "https://localhost:8080/"
        },
        "id": "X3AYwxR8vK2N",
        "outputId": "a2e550ef-4226-4950-b272-9fa8f4e7daab"
      },
      "outputs": [
        {
          "name": "stdout",
          "output_type": "stream",
          "text": [
            "[[-12], [3], [44]]\n"
          ]
        }
      ],
      "source": [
        "list_4 = [[3], [44], [-12]]\n",
        "list_4.sort()\n",
        "print(list_4)"
      ]
    },
    {
      "cell_type": "code",
      "execution_count": 154,
      "metadata": {
        "colab": {
          "base_uri": "https://localhost:8080/"
        },
        "id": "lT86o6Ipvg32",
        "outputId": "4191087f-1c2c-499f-de35-bd857504a640"
      },
      "outputs": [
        {
          "name": "stdout",
          "output_type": "stream",
          "text": [
            "[[-12, 1], [1, 3], [1, 67], [22], [44, 0]]\n"
          ]
        }
      ],
      "source": [
        "list_5 = [[1, 3], [44, 0], [-12, 1], [1,67], [22]]\n",
        "list_5.sort()\n",
        "print(list_5)"
      ]
    },
    {
      "cell_type": "code",
      "execution_count": 156,
      "metadata": {
        "colab": {
          "base_uri": "https://localhost:8080/"
        },
        "id": "ZpSrRDXhv-AW",
        "outputId": "0e05f94f-6967-4c94-b624-fa797182f79e"
      },
      "outputs": [
        {
          "name": "stdout",
          "output_type": "stream",
          "text": [
            "[-7, False, 0.6, True, 5, 8]\n"
          ]
        }
      ],
      "source": [
        "list_3 = [True, False, 5, 8, -7, 0.6]\n",
        "list_3.sort()\n",
        "print(list_3)"
      ]
    },
    {
      "cell_type": "markdown",
      "metadata": {
        "id": "tnOlZQxdd-aE"
      },
      "source": [
        "Liste elemanlarını başka bir listeye kopyalama: copy()"
      ]
    },
    {
      "cell_type": "code",
      "execution_count": 160,
      "metadata": {
        "colab": {
          "base_uri": "https://localhost:8080/"
        },
        "id": "HNgbCUT3waHT",
        "outputId": "3343d832-c91e-4f18-a733-83483698f373"
      },
      "outputs": [
        {
          "name": "stdout",
          "output_type": "stream",
          "text": [
            "[True, False, 5, 8, -7, 0.6]\n",
            "[True, False, 5, 8, -7, 0.6]\n",
            "False\n",
            "False\n",
            "True\n"
          ]
        }
      ],
      "source": [
        "liste = [True, False, 5, 8, -7, 0.6]\n",
        "a_liste = liste.copy()  # farklı bir nesne (bellek alanında) olarak kopyalıyor...\n",
        "b_liste = liste[:]\n",
        "c_liste = liste         # yeni bir nesne oluşturmuyor\n",
        "print(a_liste)\n",
        "print(b_liste)\n",
        "print(id(a_liste)==id(b_liste))\n",
        "print(id(a_liste)==id(liste))\n",
        "print(id(c_liste)==id(liste))\n"
      ]
    },
    {
      "cell_type": "code",
      "execution_count": 172,
      "metadata": {
        "colab": {
          "base_uri": "https://localhost:8080/"
        },
        "id": "SskZI3cmfUcS",
        "outputId": "c7d1964d-381b-493d-8229-44878f62f3b4"
      },
      "outputs": [
        {
          "name": "stdout",
          "output_type": "stream",
          "text": [
            "[1, 2, 3, 4, 5, 6, 0, 7, 8, 9]\n",
            "[9, 8, 7, 0, 6, 5, 4, 3, 2, 1]\n"
          ]
        }
      ],
      "source": [
        "## A listem 0,9 sayılardan oluşuyor, A yı B'ye tersten kopyalayan program...\n",
        "A = []\n",
        "A.extend([1,2,3,4,5,6, 0, 7,8,9])\n",
        "print(A)\n",
        "B = A[::-1]\n",
        "print(B)"
      ]
    },
    {
      "cell_type": "code",
      "execution_count": 174,
      "metadata": {
        "colab": {
          "base_uri": "https://localhost:8080/"
        },
        "id": "UhMj4IZP0BJC",
        "outputId": "25038887-3c9a-47cd-9f19-a9165b0d2c98"
      },
      "outputs": [
        {
          "name": "stdout",
          "output_type": "stream",
          "text": [
            "[1, 2, 3, 4, 5, 6, 0, 7, 8, 9]\n",
            "[9, 8, 7, 0, 6, 5, 4, 3, 2, 1]\n",
            "[1, 2, 3, 4, 5, 6, 0, 7, 8, 9]\n"
          ]
        }
      ],
      "source": [
        "## A listem 0,9 sayılardan oluşuyor, A yı B'ye tersten kopyalayan program...\n",
        "A = []\n",
        "A.extend([1,2,3,4,5,6, 0, 7,8,9])\n",
        "print(A)\n",
        "liste2 = A.copy()\n",
        "liste2.reverse()\n",
        "print(liste2)\n",
        "print(A)"
      ]
    },
    {
      "cell_type": "code",
      "execution_count": null,
      "metadata": {
        "id": "ZmO0NU8_ncMk"
      },
      "outputs": [],
      "source": [
        "## List yapısı mutable özelliktedir."
      ]
    },
    {
      "cell_type": "markdown",
      "metadata": {
        "id": "C8whHHUv5fGz"
      },
      "source": [
        "s : string\n",
        "d : onlu(decimal) sayı sistemi\n",
        "f : kesirli(float) sayı sistemi\n",
        "\n",
        "\n"
      ]
    },
    {
      "cell_type": "code",
      "execution_count": 8,
      "metadata": {
        "colab": {
          "base_uri": "https://localhost:8080/"
        },
        "id": "mKxf4jz57AZp",
        "outputId": "65f811e3-4100-4831-f47b-1928c95b59df"
      },
      "outputs": [
        {
          "name": "stdout",
          "output_type": "stream",
          "text": [
            "I have 4 children and 5.00 brothers\n"
          ]
        }
      ],
      "source": [
        "phrase = 'I have %d %s and %.2f brothers' % (4, \"children\", 5)  \n",
        "print (phrase)"
      ]
    },
    {
      "cell_type": "code",
      "execution_count": 10,
      "metadata": {
        "colab": {
          "base_uri": "https://localhost:8080/"
        },
        "id": "TnZiOGrXEXQB",
        "outputId": "cb622f18-0174-4192-a4f4-e2208b3fb3a7"
      },
      "outputs": [
        {
          "name": "stdout",
          "output_type": "stream",
          "text": [
            "I have 4 children and 5.00 brothers\n"
          ]
        }
      ],
      "source": [
        "phrase = 'I have {} {} and {:.2f} brothers'.format(4, \"children\", 5)  \n",
        "print (phrase)"
      ]
    },
    {
      "cell_type": "code",
      "execution_count": 11,
      "metadata": {
        "colab": {
          "base_uri": "https://localhost:8080/"
        },
        "id": "QgXjuAXVpP6X",
        "outputId": "4ec6a0db-1aad-4ec4-ec5e-5f2dc141e9a5"
      },
      "outputs": [
        {
          "name": "stdout",
          "output_type": "stream",
          "text": [
            "Welcome   \n",
            "Welcome   \n",
            "Welcome\n"
          ]
        }
      ],
      "source": [
        "print(format(\"Welcome\", \"10s\")) \n",
        "print('{:10s}'.format('Welcome'))\n",
        "print('%.10s' % 'Welcome')\n"
      ]
    },
    {
      "cell_type": "code",
      "execution_count": 13,
      "metadata": {
        "colab": {
          "base_uri": "https://localhost:8080/"
        },
        "id": "ooxoa2id5fGz",
        "outputId": "87479fa8-c60d-4cd5-ff18-17a3bf7fea21"
      },
      "outputs": [
        {
          "name": "stdout",
          "output_type": "stream",
          "text": [
            "                                     111\n",
            "                                     111\n",
            "0000000000000000000000000000000000000111\n",
            "0000000000000000000000000000000000000111\n"
          ]
        }
      ],
      "source": [
        "print(format(111, \"40d\"))\n",
        "print('{:40d}'.format(111)) \n",
        "print(f'{111:0>40d}')       # f'{111:0>40d}'\n",
        "print('%.40d' % (111))"
      ]
    },
    {
      "cell_type": "code",
      "execution_count": 14,
      "metadata": {
        "colab": {
          "base_uri": "https://localhost:8080/"
        },
        "id": "8T89iK8m5fGz",
        "outputId": "eb747ba3-ec4d-477b-b0d9-05746d3f1efe"
      },
      "outputs": [
        {
          "name": "stdout",
          "output_type": "stream",
          "text": [
            "924.66\n",
            "924.66\n",
            "924.66\n",
            "924.66\n"
          ]
        }
      ],
      "source": [
        "print(format(924.656, \"3.2f\"))\n",
        "print('{:3.2f}'.format(924.656))\n",
        "print(f'{924.656:3.2f}')\n",
        "print('%3.2f' % (924.656))"
      ]
    },
    {
      "cell_type": "code",
      "execution_count": 32,
      "metadata": {
        "colab": {
          "base_uri": "https://localhost:8080/"
        },
        "id": "4Ue--T3-HXxu",
        "outputId": "75f47d96-7c9b-4e6e-a8b7-ded16bae18ce"
      },
      "outputs": [
        {
          "name": "stdout",
          "output_type": "stream",
          "text": [
            "924.66\n",
            "924.66\n",
            "924.66\n",
            "924.66\n"
          ]
        }
      ],
      "source": [
        "print(format(924.656, \".2f\"))\n",
        "print('{:.2f}'.format(924.656))\n",
        "print(f'{924.656:.2f}')\n",
        "print('%.2f' % (924.656))"
      ]
    },
    {
      "cell_type": "code",
      "execution_count": 33,
      "metadata": {
        "colab": {
          "base_uri": "https://localhost:8080/"
        },
        "id": "nkbWFSCdHd1F",
        "outputId": "c491998e-9c9f-4d17-9e2e-c03abcbad781"
      },
      "outputs": [
        {
          "name": "stdout",
          "output_type": "stream",
          "text": [
            "924.66\n",
            "924.66\n",
            "924.66\n",
            "924.66\n"
          ]
        }
      ],
      "source": [
        "print(format(924.656, \"2.2f\"))\n",
        "print('{:2.2f}'.format(924.656))\n",
        "print(f'{924.656:2.2f}')\n",
        "print('%2.2f' % (924.656))"
      ]
    },
    {
      "cell_type": "code",
      "execution_count": 15,
      "metadata": {
        "colab": {
          "base_uri": "https://localhost:8080/",
          "height": 35
        },
        "id": "SW35PLB-piBt",
        "outputId": "f559bebb-8dfe-442a-a655-681fb33bd290"
      },
      "outputs": [
        {
          "data": {
            "application/vnd.google.colaboratory.intrinsic+json": {
              "type": "string"
            },
            "text/plain": [
              "'left aligned                  '"
            ]
          },
          "execution_count": 15,
          "metadata": {},
          "output_type": "execute_result"
        }
      ],
      "source": [
        "'{:<30}'.format('left aligned')"
      ]
    },
    {
      "cell_type": "code",
      "execution_count": 16,
      "metadata": {
        "colab": {
          "base_uri": "https://localhost:8080/",
          "height": 35
        },
        "id": "VMwzFdEh5fG0",
        "outputId": "c4c24c42-d9be-43c3-efd0-a0a7f0dfec8e"
      },
      "outputs": [
        {
          "data": {
            "application/vnd.google.colaboratory.intrinsic+json": {
              "type": "string"
            },
            "text/plain": [
              "'left aligned                  '"
            ]
          },
          "execution_count": 16,
          "metadata": {},
          "output_type": "execute_result"
        }
      ],
      "source": [
        "f\"{'left aligned':<30}\""
      ]
    },
    {
      "cell_type": "code",
      "execution_count": 17,
      "metadata": {
        "colab": {
          "base_uri": "https://localhost:8080/",
          "height": 35
        },
        "id": "X0QAgYqO5fG0",
        "outputId": "664d8e93-b863-4b2e-a3d6-26c1c055b98b"
      },
      "outputs": [
        {
          "data": {
            "application/vnd.google.colaboratory.intrinsic+json": {
              "type": "string"
            },
            "text/plain": [
              "'left aligned                  '"
            ]
          },
          "execution_count": 17,
          "metadata": {},
          "output_type": "execute_result"
        }
      ],
      "source": [
        "'left aligned'.ljust(30)"
      ]
    },
    {
      "cell_type": "code",
      "execution_count": 20,
      "metadata": {
        "colab": {
          "base_uri": "https://localhost:8080/"
        },
        "id": "ZQGB69hmGO4c",
        "outputId": "7b365466-88e2-4543-f721-702f1e48b9ef"
      },
      "outputs": [
        {
          "name": "stdout",
          "output_type": "stream",
          "text": [
            "left \n"
          ]
        }
      ],
      "source": [
        "print('%.5s' % ('left aligned'))"
      ]
    },
    {
      "cell_type": "code",
      "execution_count": 22,
      "metadata": {
        "colab": {
          "base_uri": "https://localhost:8080/",
          "height": 35
        },
        "id": "dpHZ_A54GIod",
        "outputId": "f46f1c35-1880-4ea1-f50c-ba73878ec47f"
      },
      "outputs": [
        {
          "data": {
            "application/vnd.google.colaboratory.intrinsic+json": {
              "type": "string"
            },
            "text/plain": [
              "'left aligned'"
            ]
          },
          "execution_count": 22,
          "metadata": {},
          "output_type": "execute_result"
        }
      ],
      "source": [
        "'left aligned'.ljust(5)"
      ]
    },
    {
      "cell_type": "code",
      "execution_count": null,
      "metadata": {
        "colab": {
          "base_uri": "https://localhost:8080/",
          "height": 35
        },
        "id": "stB_EYZtpsEI",
        "outputId": "0e9189e8-245a-498b-b598-09d33044f9c7"
      },
      "outputs": [
        {
          "data": {
            "application/vnd.google.colaboratory.intrinsic+json": {
              "type": "string"
            },
            "text/plain": [
              "'left aligned                  '"
            ]
          },
          "execution_count": 87,
          "metadata": {},
          "output_type": "execute_result"
        }
      ],
      "source": [
        "format('left aligned', \"<30\")"
      ]
    },
    {
      "cell_type": "code",
      "execution_count": 23,
      "metadata": {
        "colab": {
          "base_uri": "https://localhost:8080/",
          "height": 35
        },
        "id": "SJJ1aqsx5fG0",
        "outputId": "00f591f7-e678-4751-a23b-b44cd8a6fac6"
      },
      "outputs": [
        {
          "data": {
            "application/vnd.google.colaboratory.intrinsic+json": {
              "type": "string"
            },
            "text/plain": [
              "'                 right aligned'"
            ]
          },
          "execution_count": 23,
          "metadata": {},
          "output_type": "execute_result"
        }
      ],
      "source": [
        "'right aligned'.rjust(30)"
      ]
    },
    {
      "cell_type": "code",
      "execution_count": 24,
      "metadata": {
        "colab": {
          "base_uri": "https://localhost:8080/",
          "height": 35
        },
        "id": "jgvOL-App9pN",
        "outputId": "cc13252b-8c9d-4441-fafd-b924fe10a71a"
      },
      "outputs": [
        {
          "data": {
            "application/vnd.google.colaboratory.intrinsic+json": {
              "type": "string"
            },
            "text/plain": [
              "'                 right aligned'"
            ]
          },
          "execution_count": 24,
          "metadata": {},
          "output_type": "execute_result"
        }
      ],
      "source": [
        "'{:>30}'.format('right aligned')"
      ]
    },
    {
      "cell_type": "code",
      "execution_count": 25,
      "metadata": {
        "colab": {
          "base_uri": "https://localhost:8080/",
          "height": 35
        },
        "id": "Hik7ZRlXqEYv",
        "outputId": "d6747c60-a331-4c2a-aa26-90a0530afc3f"
      },
      "outputs": [
        {
          "data": {
            "application/vnd.google.colaboratory.intrinsic+json": {
              "type": "string"
            },
            "text/plain": [
              "'                 right aligned'"
            ]
          },
          "execution_count": 25,
          "metadata": {},
          "output_type": "execute_result"
        }
      ],
      "source": [
        "format('right aligned', \">30s\")"
      ]
    },
    {
      "cell_type": "code",
      "execution_count": 27,
      "metadata": {
        "colab": {
          "base_uri": "https://localhost:8080/",
          "height": 35
        },
        "id": "PTCtdjfH5fG1",
        "outputId": "660b1b8c-b70b-4cb2-e558-8c1013952127"
      },
      "outputs": [
        {
          "data": {
            "application/vnd.google.colaboratory.intrinsic+json": {
              "type": "string"
            },
            "text/plain": [
              "'$$$$$$$$center aligned$$$$$$$$'"
            ]
          },
          "execution_count": 27,
          "metadata": {},
          "output_type": "execute_result"
        }
      ],
      "source": [
        "'center aligned'.center(30, \"$\")"
      ]
    },
    {
      "cell_type": "code",
      "execution_count": 28,
      "metadata": {
        "colab": {
          "base_uri": "https://localhost:8080/",
          "height": 35
        },
        "id": "bm4HhnRGqeuv",
        "outputId": "1e9ba7fb-c8f1-4fc9-e0a8-abc5b205c192"
      },
      "outputs": [
        {
          "data": {
            "application/vnd.google.colaboratory.intrinsic+json": {
              "type": "string"
            },
            "text/plain": [
              "'$$$$$$$$center aligned$$$$$$$$'"
            ]
          },
          "execution_count": 28,
          "metadata": {},
          "output_type": "execute_result"
        }
      ],
      "source": [
        "'{:$^30}'.format('center aligned')"
      ]
    },
    {
      "cell_type": "code",
      "execution_count": 31,
      "metadata": {
        "colab": {
          "base_uri": "https://localhost:8080/",
          "height": 35
        },
        "id": "7r2sRmF6qmV7",
        "outputId": "6087c25c-e686-40b4-a803-a274e6cfee4c"
      },
      "outputs": [
        {
          "data": {
            "application/vnd.google.colaboratory.intrinsic+json": {
              "type": "string"
            },
            "text/plain": [
              "'        center aligned        '"
            ]
          },
          "execution_count": 31,
          "metadata": {},
          "output_type": "execute_result"
        }
      ],
      "source": [
        "format('center aligned', \"^30s\")"
      ]
    },
    {
      "cell_type": "code",
      "execution_count": null,
      "metadata": {
        "colab": {
          "base_uri": "https://localhost:8080/",
          "height": 35
        },
        "id": "gRFKUKlxqvSO",
        "outputId": "ab2ae942-58e8-4869-ffdc-edfadea61853"
      },
      "outputs": [
        {
          "data": {
            "application/vnd.google.colaboratory.intrinsic+json": {
              "type": "string"
            },
            "text/plain": [
              "'$$$$$$$$center aligned$$$$$$$$'"
            ]
          },
          "execution_count": 101,
          "metadata": {},
          "output_type": "execute_result"
        }
      ],
      "source": [
        "format('center aligned', \"$^30s\")"
      ]
    },
    {
      "cell_type": "code",
      "execution_count": null,
      "metadata": {
        "id": "6Kui0p2KrA9z"
      },
      "outputs": [],
      "source": [
        "\"\"\"Q:Verilen bir string ifadenin dosya uzantısına bakarak ‘.py’ (bir Python programı) veya '.ipynb' (Jupyter notebook)\n",
        "olup olmadığını söyleyen programı kodlayınız?\"\"\""
      ]
    },
    {
      "cell_type": "code",
      "execution_count": 35,
      "metadata": {
        "colab": {
          "base_uri": "https://localhost:8080/"
        },
        "id": "xhqJuT-5Ierm",
        "outputId": "294875c3-e21e-4133-fdc4-2ac1cabaac17"
      },
      "outputs": [
        {
          "name": "stdout",
          "output_type": "stream",
          "text": [
            "['dosyam', 'ipynb']\n",
            "True\n"
          ]
        }
      ],
      "source": [
        "#sefa beyin çözümü\n",
        "file = \"dosyam.ipynb\"\n",
        "text = file.split(\".\")      #stringi ayrıştırarak listeye dönüştürür\n",
        "print(text)\n",
        "print(\"ipynb\" in text)"
      ]
    },
    {
      "cell_type": "code",
      "execution_count": 36,
      "metadata": {
        "colab": {
          "base_uri": "https://localhost:8080/"
        },
        "id": "6YOc2fxPI33S",
        "outputId": "d6bcf156-6d74-47c3-c78b-b5ac76c771a7"
      },
      "outputs": [
        {
          "name": "stdout",
          "output_type": "stream",
          "text": [
            "Jüpiter Notebook\n"
          ]
        }
      ],
      "source": [
        "text = \"dosyam.ipynb\"\n",
        "print(text.endswith(\"ipynb\") and \"Jüpiter Notebook\" or \"Notebook değil\" ) #if else yerine"
      ]
    },
    {
      "cell_type": "code",
      "execution_count": 42,
      "metadata": {
        "colab": {
          "base_uri": "https://localhost:8080/"
        },
        "id": "HrtUk0XkJHsU",
        "outputId": "34aff064-2358-4bc5-dd9c-a4dda3c90691"
      },
      "outputs": [
        {
          "name": "stdout",
          "output_type": "stream",
          "text": [
            "Bu python notebook dosyasi\n"
          ]
        }
      ],
      "source": [
        "ifade = \"dosya.ipynb\"\n",
        "kalem = ifade.find(\"ipynb\")\n",
        "if kalem>0:\n",
        "    print(\"Bu python notebook dosyasi\")\n",
        "else:\n",
        "    print(\"pyton notebook dosyasi degil\")"
      ]
    },
    {
      "cell_type": "code",
      "execution_count": 44,
      "metadata": {
        "colab": {
          "base_uri": "https://localhost:8080/"
        },
        "id": "cgF2agF0rKxq",
        "outputId": "c13aa97f-cea7-4994-9e4c-ba7da6c7db5d"
      },
      "outputs": [
        {
          "name": "stdout",
          "output_type": "stream",
          "text": [
            "txt\n",
            "Python dosyası değil\n"
          ]
        }
      ],
      "source": [
        "file = \"dosyam.py\"\n",
        "# file2 = \"dosyam.doc\"\n",
        "nokta = file.find(\".\")  ##index\n",
        "uzantı = file[nokta+1:] ## noktadan sonrasını al\n",
        "print(uzantı)\n",
        "print(uzantı==\"py\" and \"Python dosyası\" or \"Python dosyası değil\")\n"
      ]
    },
    {
      "cell_type": "code",
      "execution_count": 46,
      "metadata": {
        "colab": {
          "base_uri": "https://localhost:8080/"
        },
        "id": "4R--5cn5soGL",
        "outputId": "e78edfe5-ca3a-4adb-a913-1727be52ddf8"
      },
      "outputs": [
        {
          "name": "stdout",
          "output_type": "stream",
          "text": [
            "False\n",
            "Python dosyası\n"
          ]
        }
      ],
      "source": [
        "file = \"dosyam.py\"\n",
        "# file2 = \"dosyam.doc\"\n",
        "uzantı1 = file.endswith(\"ipynb\")\n",
        "uzantı2 = file.endswith(\"py\")\n",
        "print(uzantı1)\n",
        "print((uzantı2==True or uzantı1==True) and \"Python dosyası\" or \"Python dosyası değil\")"
      ]
    },
    {
      "cell_type": "code",
      "execution_count": 47,
      "metadata": {
        "colab": {
          "base_uri": "https://localhost:8080/"
        },
        "id": "XUCRLDJatiYM",
        "outputId": "fb81735c-f7a4-419c-f403-de617be1f3ce"
      },
      "outputs": [
        {
          "name": "stdout",
          "output_type": "stream",
          "text": [
            "Python dosyası\n"
          ]
        }
      ],
      "source": [
        "file = \"dosyam.py\"\n",
        "# file2 = \"dosyam.doc\"\n",
        "uzantı1 = file.endswith(\"ipynb\")\n",
        "uzantı2 = file.endswith(\"py\")\n",
        "#print(uzantı1)\n",
        "print((uzantı2 or uzantı1) and \"Python dosyası\" or \"Python dosyası değil\") ##PEP 8 önerisi"
      ]
    },
    {
      "cell_type": "code",
      "execution_count": null,
      "metadata": {},
      "outputs": [],
      "source": []
    },
    {
      "cell_type": "code",
      "execution_count": null,
      "metadata": {},
      "outputs": [],
      "source": []
    },
    {
      "cell_type": "code",
      "execution_count": null,
      "metadata": {},
      "outputs": [],
      "source": []
    },
    {
      "cell_type": "code",
      "execution_count": null,
      "metadata": {},
      "outputs": [],
      "source": []
    },
    {
      "cell_type": "code",
      "execution_count": null,
      "metadata": {},
      "outputs": [],
      "source": []
    },
    {
      "cell_type": "code",
      "execution_count": null,
      "metadata": {},
      "outputs": [],
      "source": []
    },
    {
      "cell_type": "code",
      "execution_count": null,
      "metadata": {},
      "outputs": [],
      "source": []
    },
    {
      "cell_type": "code",
      "execution_count": null,
      "metadata": {},
      "outputs": [],
      "source": []
    },
    {
      "cell_type": "code",
      "execution_count": null,
      "metadata": {},
      "outputs": [],
      "source": []
    },
    {
      "cell_type": "code",
      "execution_count": null,
      "metadata": {},
      "outputs": [],
      "source": []
    },
    {
      "cell_type": "code",
      "execution_count": null,
      "metadata": {},
      "outputs": [],
      "source": []
    },
    {
      "cell_type": "code",
      "execution_count": null,
      "metadata": {},
      "outputs": [],
      "source": []
    },
    {
      "cell_type": "code",
      "execution_count": null,
      "metadata": {},
      "outputs": [],
      "source": []
    },
    {
      "cell_type": "code",
      "execution_count": null,
      "metadata": {},
      "outputs": [],
      "source": []
    },
    {
      "cell_type": "code",
      "execution_count": null,
      "metadata": {},
      "outputs": [],
      "source": []
    },
    {
      "cell_type": "code",
      "execution_count": null,
      "metadata": {},
      "outputs": [],
      "source": []
    },
    {
      "cell_type": "code",
      "execution_count": null,
      "metadata": {},
      "outputs": [],
      "source": []
    },
    {
      "cell_type": "code",
      "execution_count": null,
      "metadata": {},
      "outputs": [],
      "source": []
    },
    {
      "cell_type": "code",
      "execution_count": null,
      "metadata": {},
      "outputs": [],
      "source": []
    },
    {
      "cell_type": "code",
      "execution_count": null,
      "metadata": {},
      "outputs": [],
      "source": []
    }
  ],
  "metadata": {
    "colab": {
      "provenance": []
    },
    "kernelspec": {
      "display_name": "Python 3.10.6 64-bit",
      "language": "python",
      "name": "python3"
    },
    "language_info": {
      "codemirror_mode": {
        "name": "ipython",
        "version": 3
      },
      "file_extension": ".py",
      "mimetype": "text/x-python",
      "name": "python",
      "nbconvert_exporter": "python",
      "pygments_lexer": "ipython3",
      "version": "3.8.9"
    },
    "vscode": {
      "interpreter": {
        "hash": "31f2aee4e71d21fbe5cf8b01ff0e069b9275f58929596ceb00d14d90e3e16cd6"
      }
    }
  },
  "nbformat": 4,
  "nbformat_minor": 0
}
